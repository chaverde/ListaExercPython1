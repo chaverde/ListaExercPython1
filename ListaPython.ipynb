{
  "nbformat": 4,
  "nbformat_minor": 0,
  "metadata": {
    "colab": {
      "provenance": [],
      "authorship_tag": "ABX9TyMrC7Gt7gQYzo+ySm7HWU6a",
      "include_colab_link": true
    },
    "kernelspec": {
      "name": "python3",
      "display_name": "Python 3"
    },
    "language_info": {
      "name": "python"
    }
  },
  "cells": [
    {
      "cell_type": "markdown",
      "metadata": {
        "id": "view-in-github",
        "colab_type": "text"
      },
      "source": [
        "<a href=\"https://colab.research.google.com/github/chaverde/ListaExercPython1/blob/main/ListaPython.ipynb\" target=\"_parent\"><img src=\"https://colab.research.google.com/assets/colab-badge.svg\" alt=\"Open In Colab\"/></a>"
      ]
    },
    {
      "cell_type": "code",
      "source": [
        "# ex 1 - Numeros pares até 600: Crie um algoritmo que imprima os numeros pares de 1 até 600\n",
        "for i in range (1,601):\n",
        "    if i % 2 == 0:\n",
        "        print(i)\n",
        "    i = i + 1"
      ],
      "metadata": {
        "id": "EWVLtsv92Ifd"
      },
      "execution_count": null,
      "outputs": []
    },
    {
      "cell_type": "code",
      "source": [
        "# ex 2 - Verificação de Número Primo: Peça ao usuário um número e verifique se ele é um número primo ou não.\n",
        "num = int(input(\"Digite um número: \"))\n",
        "if num == 2 or num == 3:\n",
        "    print(f\"{num} é primo\")\n",
        "elif num % 2 == 0 or num % 3 == 0 or num == 1:\n",
        "    print(f\"{num} não é primo\")\n",
        "else:\n",
        "    print(f\"{num} é primo\")"
      ],
      "metadata": {
        "id": "PPryutAk2Icy"
      },
      "execution_count": null,
      "outputs": []
    },
    {
      "cell_type": "code",
      "source": [
        "# ex 3 - Soma dos Números Pares: Solicite ao usuário um número inteiro positivo e calcule a soma de todos os\n",
        "# números pares até esse número\n",
        "num = int(input(\"Digite um número: \"))\n",
        "cont = 0\n",
        "soma = 0\n",
        "if num >= 0:\n",
        "    while cont != num + 1:\n",
        "        if cont % 2 == 0:\n",
        "            soma = soma + cont\n",
        "        cont = cont + 1\n",
        "else:\n",
        "    print(f\"{num} é negativo! Não pode\")\n",
        "print(f\"A soma dos n pares é {soma}\")"
      ],
      "metadata": {
        "id": "EvP7WY-X2IaK"
      },
      "execution_count": null,
      "outputs": []
    },
    {
      "cell_type": "code",
      "source": [
        "# ex 4 - Estado onde nasceu: Entre com o estado da pessoa e imprima as mensagens: carioca, paulista, mineiro,\n",
        "# baiano, cearense, outros estados\n",
        "estado = str(input(\"Estado: \"))\n",
        "if estado == \"Rio de Janeiro\" or estado == \"RJ\":\n",
        "    print(\"Carioca!\")\n",
        "elif estado == \"São Paulo\" or estado == \"SP\":\n",
        "    print(\"Paulista!\")\n",
        "elif estado == \"Minas Gerais\" or estado == \"MG\":\n",
        "    print(\"Mineiro!\")\n",
        "if estado == \"Bahia\" or estado == \"BA\":\n",
        "    print(\"Baiano!\")\n",
        "if estado == \"Ceará\" or estado == \"CE\":\n",
        "    print(\"Cearense!\")\n",
        "else:\n",
        "    print(\"Outros estados!\")"
      ],
      "metadata": {
        "id": "_TucAYrv2IXc"
      },
      "execution_count": null,
      "outputs": []
    },
    {
      "cell_type": "code",
      "source": [
        "# ex 5 - Terça parte do número: Crie um algoritmo que solicite 10 números e imprima a terça parte deles. Utilize o\n",
        "# FOR\n",
        "for i in range (1,11):\n",
        "    n = int(input(\"n: \"))\n",
        "    terca = n / 3\n",
        "    print(f\"A terça parte do {n} é {terca}\")"
      ],
      "metadata": {
        "id": "ensQwExX2IUi"
      },
      "execution_count": null,
      "outputs": []
    },
    {
      "cell_type": "code",
      "source": [
        "# ex 5 - com while\n",
        "cont = 0\n",
        "while cont != 11:\n",
        "    n = int(input(\"n: \"))\n",
        "    terca = n / 3\n",
        "    print(f\"A terça parte do {n} é {terca}\")\n",
        "    cont = cont + 1"
      ],
      "metadata": {
        "id": "4hYL5R-b2IRX"
      },
      "execution_count": null,
      "outputs": []
    },
    {
      "cell_type": "code",
      "source": [
        "# ex 6 - contagem de vogais\n",
        "palavra = str(input(\"Digite uma palavra: \"))\n",
        "a = palavra.count(\"a\")\n",
        "e = palavra.count(\"e\")\n",
        "i = palavra.count(\"i\")\n",
        "o = palavra.count(\"o\")\n",
        "u = palavra.count(\"u\")\n",
        "vogais = a + e + i + o + u\n",
        "print(f\"A {palavra} tem {vogais} vogais\")"
      ],
      "metadata": {
        "id": "lrgtPvYx2IOh"
      },
      "execution_count": null,
      "outputs": []
    },
    {
      "cell_type": "code",
      "source": [
        "# ex 7 - X elevado a Y: Crie um algoritmo que calcule o valor de x elevado a y, onde x é maior que 1 e y é inteiro maior\n",
        "# igual a 2. Simule a operação de exponenciação utilizando o comando FOR. Exemplo: 3 elevado a 4 = 81.\n",
        "# Repita o exerício usando o WHILE\n",
        "\n",
        "# x = int(input(\"x: \"))\n",
        "# y = int(input(\"y: \"))\n",
        "# if x > 1 and y >= 2:\n",
        "#     elevado = x**y\n",
        "#     print(f\"{x} elevado a {y} é {elevado}\")\n",
        "# else:\n",
        "#     print(\"Números inválidos\")\n",
        "\n",
        "x = int(input(\"x: \"))\n",
        "y = int(input(\"y: \"))\n",
        "soma = 1\n",
        "if x > 1 and y >= 2:\n",
        "  for i in range(y):\n",
        "      soma = soma * x\n",
        "  print(soma)\n",
        "else:\n",
        "  print(\"Números inválidos\")"
      ],
      "metadata": {
        "colab": {
          "base_uri": "https://localhost:8080/"
        },
        "id": "gTTx9V4x2ILx",
        "outputId": "36c158ea-9946-4228-e551-5b15f38e4b9c"
      },
      "execution_count": 7,
      "outputs": [
        {
          "output_type": "stream",
          "name": "stdout",
          "text": [
            "x: 3\n",
            "y: 4\n",
            "81\n"
          ]
        }
      ]
    },
    {
      "cell_type": "code",
      "source": [
        "# ex 7 - com while\n",
        "x = int(input(\"x: \"))\n",
        "y = int(input(\"y: \"))\n",
        "soma = 1\n",
        "cont = 0\n",
        "while cont < y:\n",
        "    soma = soma * x\n",
        "    cont += 1\n",
        "print(soma)"
      ],
      "metadata": {
        "id": "QLdATl0-2IIZ"
      },
      "execution_count": null,
      "outputs": []
    },
    {
      "cell_type": "code",
      "source": [
        "# ex 8 - Menor, intermediario, maior:. Entre com 3 números em 3 variáveis diferentes ordene imprimindo também a\n",
        "# classificação: menor, intermediário, maior\n",
        "n1 = int(input(\"Numero 1: \"))\n",
        "n2 = int(input(\"Numero 2: \"))\n",
        "n3 = int(input(\"Numero 3: \"))\n",
        "if n1 > n2 and n1 > n3:\n",
        "    if n2 > n3:\n",
        "        print(f\"{n3} é menor\")\n",
        "        print(f\"{n2} é intermediário\")\n",
        "    else:\n",
        "        print(f\"{n2} é menor\")\n",
        "        print(f\"{n3} é intermediário\")\n",
        "    print(f\"{n1} é maior\")\n",
        "elif n2 > n1 and n2 > n3:\n",
        "    if n1 > n3:\n",
        "        print(f\"{n3} é menor\")\n",
        "        print(f\"{n1} é intermediário\")\n",
        "    else:\n",
        "        print(f\"{n1} é menor\")\n",
        "        print(f\"{n2} é intermediário\")\n",
        "    print(f\"{n3} é maior\")\n",
        "elif n3 > n2 and n3 > n1:\n",
        "    if n2 > n1:\n",
        "        print(f\"{n1} é menor\")\n",
        "        print(f\"{n2} é intermediário\")\n",
        "    else:\n",
        "        print(f\"{n2} é menor\")\n",
        "        print(f\"{n1} é intermediário\")\n",
        "    print(f\"{n3} é maior\")"
      ],
      "metadata": {
        "id": "WymA7_xN2ICt"
      },
      "execution_count": null,
      "outputs": []
    },
    {
      "cell_type": "code",
      "source": [
        "# ex 9 - Verificação de Palíndromo: Receba uma palavra do usuário e verifique se ela é um palíndromo (igual quando\n",
        "# lida de trás para frente).\n",
        "palavra = str(input(\"Palavra: \"))\n",
        "palavra_inversa = palavra[::-1]\n",
        "if palavra_inversa == palavra:\n",
        "    print(f\"{palavra} é um palindromo\")\n",
        "else:\n",
        "    print(f\"{palavra} não é um palindromo\")"
      ],
      "metadata": {
        "colab": {
          "base_uri": "https://localhost:8080/"
        },
        "id": "Xuo7DZDi2H2I",
        "outputId": "251d47bb-e0fe-41fd-d9d5-0c4ec377f7ce"
      },
      "execution_count": null,
      "outputs": [
        {
          "output_type": "stream",
          "name": "stdout",
          "text": [
            "Palavra: roma\n",
            "roma não é um palindromo\n"
          ]
        }
      ]
    },
    {
      "cell_type": "code",
      "execution_count": null,
      "metadata": {
        "id": "J0NNRtZa06l-"
      },
      "outputs": [],
      "source": [
        "# ex 10 - Temporizador: Crie um algoritmo que simule um temporizador. Peça os minutos e imprima um relógio de\n",
        "#minutos e segundos. Utilize o FOR – um for dentro do outro. Repita o exerício usando o WHILE\n",
        "min = int(input(\"Digite os minutos: \"))\n",
        "y = 0\n",
        "for i in range(min):\n",
        "    min = min -1\n",
        "    seg = 0\n",
        "    for x in range (60):\n",
        "        print(f\"{y}minutos, {x} segundos\")\n",
        "    y = y + 1\n",
        "print(\"Tempo esgotado!\")"
      ]
    },
    {
      "cell_type": "code",
      "source": [
        "# ex 10 - While\n",
        "min = int(input(\"Digite os minutos: \"))\n",
        "y = 0\n",
        "while min > 0:\n",
        "    min = min - 1\n",
        "    seg = 0\n",
        "    while seg < 59:\n",
        "        seg = seg + 1\n",
        "        print(f\"{y} minutos e {seg} segundos\")\n",
        "    y += 1\n",
        "print(\"Tempo esgotado!\")"
      ],
      "metadata": {
        "id": "Riesvjt2lxCl"
      },
      "execution_count": null,
      "outputs": []
    },
    {
      "cell_type": "code",
      "source": [
        "# ex 11 - Temporizador decrescente: Crie um algoritmo que simule um temporizador decrescente. Peça os minutos e\n",
        "#imprima um relógio de minutos e segundos. Utilize o FOR. Repita o exerício usando o WHILE\n",
        "min = int(input(\"Digite os minutos: \"))\n",
        "for i in range(min):\n",
        "    min = min - 1\n",
        "    seg = 60\n",
        "    for i in range(60):\n",
        "        print(f\"Falta {min} minutos e {seg} segundos\")\n",
        "        seg = seg - 1\n",
        "print(\"Tempo esgotado!\")"
      ],
      "metadata": {
        "id": "bLQNuNX8mBTZ"
      },
      "execution_count": null,
      "outputs": []
    },
    {
      "cell_type": "code",
      "source": [
        "# ex 11 - while\n",
        "min = int(input(\"Digite os minutos: \"))\n",
        "while min > 0:\n",
        "  min = min - 1\n",
        "  seg = 60\n",
        "  while seg >= 0:\n",
        "    print(f\"Falta {min} minutos e {seg} segundos\")\n",
        "    seg = seg - 1\n",
        "print(\"Tempo esgotado!\")"
      ],
      "metadata": {
        "id": "fAFN5Tj1mGOD"
      },
      "execution_count": null,
      "outputs": []
    },
    {
      "cell_type": "code",
      "source": [
        "# ex 12 - Soma de Dígitos: Peça ao usuário um número inteiro e calcule a soma dos seus dígitos.\n",
        "n = int(input(\"n: \"))\n",
        "y = n % 10 # 0 a 9\n",
        "x = n // 10\n",
        "a = n // 100 # 100 a 999\n",
        "b = x % 10 # 10 a 99\n",
        "if n >= 0 and n < 10:\n",
        "    print(f\"A soma dos digitos é {n}\")\n",
        "elif n >= 10 and n <= 99:\n",
        "    z = x + y\n",
        "    print(f\"A soma dos digitos de {n} é {z}\")\n",
        "elif n >= 100 and n <= 999:\n",
        "    z = y + a + b\n",
        "    print(f\"A soma dos digitos de {n} é {z}\")\n",
        "else:\n",
        "    print(\"Número inválido. Digite um número entre 0 e 999\")"
      ],
      "metadata": {
        "id": "idT6M59UmKSb"
      },
      "execution_count": null,
      "outputs": []
    },
    {
      "cell_type": "code",
      "source": [
        "# ex 13 - Inversão de dígitos: Crie um algoritmo que peça um número de 4 dígitos e inverta esses dígitos. Exemplo: o número 3578 deverá ser impresso 8753\n",
        "n = int(input(\"Digite um n de 4 dígitos: \"))\n",
        "if n >= 1000 and n <= 9999:\n",
        "    x = n // 1000\n",
        "    y = ((n // 100) % 10) * 10\n",
        "    z = ((n//10) % 10) * 100\n",
        "    a = (n % 10) * 1000\n",
        "    invertido = x+ y + z + a\n",
        "    print(f\"O inverso de {n} é {invertido}\")\n",
        "else:\n",
        "    print(f\"{n} não possui 4 dígitos\")"
      ],
      "metadata": {
        "id": "Wep72K1AmNsp"
      },
      "execution_count": null,
      "outputs": []
    },
    {
      "cell_type": "code",
      "source": [
        "# ex 14 - # Validação de CPF: Crie um programa que valide se um CPF é válido ou não. Um CPF é válido se a soma dos\n",
        "# produtos do primeiro dígito é igual ao primeiro dígito verificador e a soma dos produtos do segundo dígito é\n",
        "# igual ao segundo dígito verificador.\n",
        "\n",
        "cpf = int(input(\"CPF: \"))\n",
        "x = 10 ** 10\n",
        "y = 10 ** 10\n",
        "soma = cpf // (10 ** 10)\n",
        "soma2 = 0\n",
        "c = 1\n",
        "for i in range(8):\n",
        "    c = c + 1\n",
        "    x = x // 10\n",
        "    n = ((cpf // x) % 10) * c\n",
        "    soma = soma + n\n",
        "teste1 = soma % 11\n",
        "if teste1 == 10:\n",
        "    verifica1 = 0\n",
        "else:\n",
        "    verifica1 = teste1\n",
        "    if verifica1 == (cpf // 10) % 10:\n",
        "        for z in range(9):\n",
        "            z = z + 1\n",
        "            y = y // 10\n",
        "            e = ((cpf // y) % 10) * z\n",
        "            soma2 = soma2 + e\n",
        "    else:\n",
        "        print(\"CPF Inválido\")\n",
        "teste2 = soma2 % 11\n",
        "if teste2 == 10:\n",
        "    verifica2 = 0\n",
        "else:\n",
        "    verifica2 = teste2\n",
        "if verifica2 == cpf % 10:\n",
        "    print(\"CPF Válido\")\n",
        "else:\n",
        "    print(\"CPF Inválido\")"
      ],
      "metadata": {
        "id": "pKhFSepkmSpJ"
      },
      "execution_count": null,
      "outputs": []
    },
    {
      "cell_type": "code",
      "source": [
        "# ex 15 -\n",
        "from random import randint\n",
        "aleatorio = randint(1,100)\n",
        "n = 0\n",
        "cont = 0\n",
        "while aleatorio != n:\n",
        "    n = int(input(\"Diga um número: \"))\n",
        "    cont = cont + 1\n",
        "    if n > 100 or n <= 0:\n",
        "        print(f\"{n} não está entre 1 e 100, insira um número válido\")\n",
        "    elif n > aleatorio:\n",
        "        print(f\"{n} é maior que o número secreto\")\n",
        "    elif n < aleatorio:\n",
        "        print(f\"{n} é menor que o número secreto\")\n",
        "print(f\"O número secreto era {n}! Você acertou em {cont} tentativas\")"
      ],
      "metadata": {
        "id": "jEmc9-oGmZEu"
      },
      "execution_count": null,
      "outputs": []
    }
  ]
}